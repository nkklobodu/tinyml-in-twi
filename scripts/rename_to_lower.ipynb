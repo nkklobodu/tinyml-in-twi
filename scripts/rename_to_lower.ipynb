{
 "cells": [
  {
   "cell_type": "markdown",
   "metadata": {},
   "source": [
    "# Rename Script\n",
    "Renames files in specified directory(ies) to lowercase"
   ]
  },
  {
   "cell_type": "code",
   "execution_count": null,
   "metadata": {},
   "outputs": [],
   "source": [
    "# import sys\n",
    "import os"
   ]
  },
  {
   "cell_type": "code",
   "execution_count": null,
   "metadata": {},
   "outputs": [],
   "source": [
    "# function to rename files to lowercase\n",
    "def rename_files_to_lowercase(paths):\n",
    "    for path in paths:\n",
    "        if os.path.exists(path):    # ensure path exists\n",
    "            for filename in os.listdir(path):\n",
    "                new_filename = filename.lower()\n",
    "                source = os.path.join(path, filename)\n",
    "                destination = os.path.join(path, new_filename)\n",
    "                \n",
    "                if source != destination:  # check if filename is already in lowercase\n",
    "                    os.rename(source, destination)\n",
    "                    print(f\"{filename}  =>  {new_filename}\")\n",
    "                else:\n",
    "                    print(f\"{filename} already lower\")\n",
    "        else:\n",
    "            print(f\"Path {path} does not exist\")"
   ]
  },
  {
   "cell_type": "code",
   "execution_count": null,
   "metadata": {},
   "outputs": [],
   "source": [
    "# rename files to lowercase with paths\n",
    "# example: paths = ['./dataset/keywords_exported/dum', './dataset/keywords_exported/sɔ']\n",
    "paths = ['../dataset/keywords_raw']\n",
    "rename_files_to_lowercase(paths)"
   ]
  }
 ],
 "metadata": {
  "kernelspec": {
   "display_name": "Python 3",
   "language": "python",
   "name": "python3"
  },
  "language_info": {
   "codemirror_mode": {
    "name": "ipython",
    "version": 3
   },
   "file_extension": ".py",
   "mimetype": "text/x-python",
   "name": "python",
   "nbconvert_exporter": "python",
   "pygments_lexer": "ipython3",
   "version": "3.12.0"
  }
 },
 "nbformat": 4,
 "nbformat_minor": 2
}
